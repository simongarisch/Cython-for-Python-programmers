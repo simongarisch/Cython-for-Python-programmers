{
 "cells": [
  {
   "cell_type": "markdown",
   "metadata": {},
   "source": [
    "# Cython essentials\n",
    "\n",
    "Cython is:\n",
    "*  A programming language blend of Python and the type system of C/C++.\n",
    "*  A compiler for Cython -> C\\C++.\n",
    "\n",
    "It feels like Python while providing easy access to C."
   ]
  },
  {
   "cell_type": "markdown",
   "metadata": {},
   "source": [
    "## Comparint Python, C and Cython\n",
    "Starting with Python..."
   ]
  },
  {
   "cell_type": "code",
   "execution_count": 1,
   "metadata": {},
   "outputs": [],
   "source": [
    "def fib(n):\n",
    "    a, b = 0, 1\n",
    "    for i in range(n):\n",
    "        a, b = a+b, a\n",
    "    return a\n"
   ]
  },
  {
   "cell_type": "code",
   "execution_count": 2,
   "metadata": {},
   "outputs": [
    {
     "data": {
      "text/plain": [
       "[1, 1, 2, 3, 5, 8, 13, 21, 34, 55]"
      ]
     },
     "execution_count": 2,
     "metadata": {},
     "output_type": "execute_result"
    }
   ],
   "source": [
    "[fib(i) for i in range(1,11)]"
   ]
  },
  {
   "cell_type": "markdown",
   "metadata": {},
   "source": [
    "Then with C."
   ]
  },
  {
   "cell_type": "code",
   "execution_count": 3,
   "metadata": {},
   "outputs": [],
   "source": [
    "code = \"\"\"\n",
    "#include <stdio.h>\n",
    "\n",
    "int cfib(int n);\n",
    "\n",
    "\n",
    "int cfib(int n){\n",
    "  int a=0, b=1, tmp;\n",
    "  for(int i=0; i<n; ++i){\n",
    "    tmp = a; a = a + b; b = tmp;\n",
    "  }\n",
    "  return a;\n",
    "}\n",
    "\n",
    "\n",
    "void main(){\n",
    "  for(int i=1; i<=10; i++){\n",
    "    printf(\"%d,\", cfib(i));\n",
    "  }\n",
    "}\n",
    "\"\"\"\n",
    "\n",
    "with open(\"cfib.c\", \"w\") as target_file:\n",
    "    target_file.write(code)\n"
   ]
  },
  {
   "cell_type": "code",
   "execution_count": 4,
   "metadata": {},
   "outputs": [],
   "source": [
    "! gcc cfib.c"
   ]
  },
  {
   "cell_type": "code",
   "execution_count": 5,
   "metadata": {},
   "outputs": [
    {
     "name": "stdout",
     "output_type": "stream",
     "text": [
      "1,1,2,3,5,8,13,21,34,55,\n"
     ]
    }
   ],
   "source": [
    "! a"
   ]
  },
  {
   "cell_type": "markdown",
   "metadata": {},
   "source": [
    "Download https://sourceforge.net/projects/mingw-w64/\n",
    "\n",
    "Choose x86_64 in architecture"
   ]
  },
  {
   "cell_type": "code",
   "execution_count": 6,
   "metadata": {},
   "outputs": [],
   "source": [
    "! C:\\\"Program Files\"\\mingw-w64\\x86_64-8.1.0-posix-seh-rt_v6-rev0\\mingw64\\bin\\gcc -m64 -fpic -c cfib.c -o cfib.o"
   ]
  },
  {
   "cell_type": "code",
   "execution_count": 7,
   "metadata": {},
   "outputs": [],
   "source": [
    "! C:\\\"Program Files\"\\mingw-w64\\x86_64-8.1.0-posix-seh-rt_v6-rev0\\mingw64\\bin\\gcc -shared -o libcfib.so cfib.o"
   ]
  },
  {
   "cell_type": "code",
   "execution_count": 8,
   "metadata": {},
   "outputs": [],
   "source": [
    "import ctypes\n",
    "\n",
    "libcfib = ctypes.cdll.LoadLibrary(\"libcfib.so\")"
   ]
  },
  {
   "cell_type": "code",
   "execution_count": 9,
   "metadata": {},
   "outputs": [
    {
     "data": {
      "text/plain": [
       "[1, 1, 2, 3, 5, 8, 13, 21, 34, 55]"
      ]
     },
     "execution_count": 9,
     "metadata": {},
     "output_type": "execute_result"
    }
   ],
   "source": [
    "cfib = libcfib.cfib\n",
    "\n",
    "[cfib(i) for i in range(1,11)]"
   ]
  },
  {
   "cell_type": "markdown",
   "metadata": {},
   "source": [
    "Finally, running with Cython..."
   ]
  },
  {
   "cell_type": "code",
   "execution_count": 10,
   "metadata": {},
   "outputs": [],
   "source": [
    "%load_ext Cython"
   ]
  },
  {
   "cell_type": "code",
   "execution_count": 11,
   "metadata": {},
   "outputs": [],
   "source": [
    "%%cython\n",
    "\n",
    "def cyfib(int n):\n",
    "    cdef int a = 0\n",
    "    cdef int b = 1\n",
    "    for i in range(n):\n",
    "        a, b = a+b, a\n",
    "    return a\n"
   ]
  },
  {
   "cell_type": "code",
   "execution_count": 12,
   "metadata": {},
   "outputs": [
    {
     "data": {
      "text/plain": [
       "[1, 1, 2, 3, 5, 8, 13, 21, 34, 55]"
      ]
     },
     "execution_count": 12,
     "metadata": {},
     "output_type": "execute_result"
    }
   ],
   "source": [
    "[cyfib(i) for i in range(1,11)]"
   ]
  },
  {
   "cell_type": "markdown",
   "metadata": {},
   "source": [
    "So we have this fib function implemented in Python (fib), C (cfib) and Cython (cyfib)..."
   ]
  },
  {
   "cell_type": "code",
   "execution_count": 13,
   "metadata": {},
   "outputs": [
    {
     "name": "stdout",
     "output_type": "stream",
     "text": [
      "266 µs ± 13.2 µs per loop (mean ± std. dev. of 7 runs, 1000 loops each)\n"
     ]
    }
   ],
   "source": [
    "%%timeit\n",
    "[fib(i) for i in range(1,101)]"
   ]
  },
  {
   "cell_type": "code",
   "execution_count": 14,
   "metadata": {},
   "outputs": [
    {
     "name": "stdout",
     "output_type": "stream",
     "text": [
      "43.5 µs ± 1.81 µs per loop (mean ± std. dev. of 7 runs, 10000 loops each)\n"
     ]
    }
   ],
   "source": [
    "%%timeit\n",
    "[cfib(i) for i in range(1,101)]"
   ]
  },
  {
   "cell_type": "code",
   "execution_count": 15,
   "metadata": {},
   "outputs": [
    {
     "name": "stdout",
     "output_type": "stream",
     "text": [
      "8.77 µs ± 152 ns per loop (mean ± std. dev. of 7 runs, 100000 loops each)\n"
     ]
    }
   ],
   "source": [
    "%%timeit\n",
    "[cyfib(i) for i in range(1,101)]"
   ]
  },
  {
   "cell_type": "markdown",
   "metadata": {},
   "source": [
    "## The basic build of hello world...\n",
    "See the basic [cython tutorial](https://cython.readthedocs.io/en/latest/src/tutorial/cython_tutorial.html) for hello world."
   ]
  },
  {
   "cell_type": "code",
   "execution_count": 36,
   "metadata": {},
   "outputs": [],
   "source": [
    "code = \"\"\"\n",
    "print(\"Hello World\")\n",
    "\"\"\"\n",
    "\n",
    "with open(\"helloworld.pyx\", \"w\") as target_file:\n",
    "    target_file.write(code)\n",
    "\n",
    "    \n",
    "code = \"\"\"\n",
    "from distutils.core import setup\n",
    "from Cython.Build import cythonize\n",
    "\n",
    "setup(\n",
    "    ext_modules = cythonize(\"helloworld.pyx\")\n",
    ")\n",
    "\"\"\"\n",
    "\n",
    "with open(\"setup.py\", \"w\") as target_file:\n",
    "    target_file.write(code)\n"
   ]
  },
  {
   "cell_type": "code",
   "execution_count": 37,
   "metadata": {},
   "outputs": [
    {
     "name": "stdout",
     "output_type": "stream",
     "text": [
      "\r\n",
      "print(\"Hello World\")\r\n"
     ]
    }
   ],
   "source": [
    "%%bash\n",
    "cat helloworld.pyx"
   ]
  },
  {
   "cell_type": "code",
   "execution_count": 38,
   "metadata": {},
   "outputs": [
    {
     "name": "stdout",
     "output_type": "stream",
     "text": [
      "\r\n",
      "from distutils.core import setup\r\n",
      "from Cython.Build import cythonize\r\n",
      "\r\n",
      "setup(\r\n",
      "    ext_modules = cythonize(\"helloworld.pyx\")\r\n",
      ")\r\n"
     ]
    }
   ],
   "source": [
    "%%bash\n",
    "cat setup.py"
   ]
  },
  {
   "cell_type": "code",
   "execution_count": 40,
   "metadata": {},
   "outputs": [
    {
     "name": "stdout",
     "output_type": "stream",
     "text": [
      "running build_ext\r\n",
      "building 'helloworld' extension\r\n",
      "creating build\r\n",
      "creating build\\temp.win-amd64-3.6\r\n",
      "creating build\\temp.win-amd64-3.6\\Release\r\n",
      "C:\\Program Files (x86)\\Microsoft Visual Studio\\2019\\BuildTools\\VC\\Tools\\MSVC\\14.20.27508\\bin\\HostX86\\x64\\cl.exe /c /nologo /Ox /W3 /GL /DNDEBUG /MD -IC:\\Anaconda2\\envs\\py36\\include -IC:\\Anaconda2\\envs\\py36\\include \"-IC:\\Program Files (x86)\\Microsoft Visual Studio\\2019\\BuildTools\\VC\\Tools\\MSVC\\14.20.27508\\include\" \"-IC:\\Program Files (x86)\\Windows Kits\\NETFXSDK\\4.6.1\\include\\um\" \"-IC:\\Program Files (x86)\\Windows Kits\\10\\include\\10.0.17763.0\\ucrt\" \"-IC:\\Program Files (x86)\\Windows Kits\\10\\include\\10.0.17763.0\\shared\" \"-IC:\\Program Files (x86)\\Windows Kits\\10\\include\\10.0.17763.0\\um\" \"-IC:\\Program Files (x86)\\Windows Kits\\10\\include\\10.0.17763.0\\winrt\" \"-IC:\\Program Files (x86)\\Windows Kits\\10\\include\\10.0.17763.0\\cppwinrt\" /Tchelloworld.c /Fobuild\\temp.win-amd64-3.6\\Release\\helloworld.obj\r\n",
      "helloworld.c\r\n",
      "C:\\Program Files (x86)\\Microsoft Visual Studio\\2019\\BuildTools\\VC\\Tools\\MSVC\\14.20.27508\\bin\\HostX86\\x64\\link.exe /nologo /INCREMENTAL:NO /LTCG /DLL /MANIFEST:EMBED,ID=2 /MANIFESTUAC:NO /LIBPATH:C:\\Anaconda2\\envs\\py36\\libs /LIBPATH:C:\\Anaconda2\\envs\\py36\\PCbuild\\amd64 \"/LIBPATH:C:\\Program Files (x86)\\Microsoft Visual Studio\\2019\\BuildTools\\VC\\Tools\\MSVC\\14.20.27508\\lib\\x64\" \"/LIBPATH:C:\\Program Files (x86)\\Windows Kits\\NETFXSDK\\4.6.1\\lib\\um\\x64\" \"/LIBPATH:C:\\Program Files (x86)\\Windows Kits\\10\\lib\\10.0.17763.0\\ucrt\\x64\" \"/LIBPATH:C:\\Program Files (x86)\\Windows Kits\\10\\lib\\10.0.17763.0\\um\\x64\" /EXPORT:PyInit_helloworld build\\temp.win-amd64-3.6\\Release\\helloworld.obj /OUT:U:\\git\\Cython-for-Python-programmers\\helloworld.cp36-win_amd64.pyd /IMPLIB:build\\temp.win-amd64-3.6\\Release\\helloworld.cp36-win_amd64.lib\r\n",
      "   Creating library build\\temp.win-amd64-3.6\\Release\\helloworld.cp36-win_amd64.lib and object build\\temp.win-amd64-3.6\\Release\\helloworld.cp36-win_amd64.exp\r\n",
      "Generating code\r\n",
      "Finished generating code\r\n"
     ]
    }
   ],
   "source": [
    "%%bash\n",
    "source activate py36\n",
    "python setup.py build_ext --inplace"
   ]
  },
  {
   "cell_type": "markdown",
   "metadata": {},
   "source": [
    "I've run this on Windows, so I have 'helloworld.cp36-win_amd64.pyd' in the current directory."
   ]
  },
  {
   "cell_type": "code",
   "execution_count": 41,
   "metadata": {},
   "outputs": [
    {
     "data": {
      "text/plain": [
       "True"
      ]
     },
     "execution_count": 41,
     "metadata": {},
     "output_type": "execute_result"
    }
   ],
   "source": [
    "import os\n",
    "\n",
    "os.path.isfile(\"helloworld.cp36-win_amd64.pyd\")"
   ]
  },
  {
   "cell_type": "code",
   "execution_count": 43,
   "metadata": {},
   "outputs": [
    {
     "name": "stdout",
     "output_type": "stream",
     "text": [
      "Hello World\n"
     ]
    }
   ],
   "source": [
    "import helloworld"
   ]
  },
  {
   "cell_type": "markdown",
   "metadata": {},
   "source": [
    "## Wrapping C code with Cython"
   ]
  },
  {
   "cell_type": "code",
   "execution_count": 16,
   "metadata": {},
   "outputs": [],
   "source": [
    "code = \"\"\"\n",
    "int cfib(int n);\n",
    "\"\"\"\n",
    "\n",
    "with open(\"cfib.h\", \"w\") as target_file:\n",
    "    target_file.write(code)\n"
   ]
  },
  {
   "cell_type": "code",
   "execution_count": 17,
   "metadata": {},
   "outputs": [
    {
     "name": "stdout",
     "output_type": "stream",
     "text": [
      "\r\n",
      "#include <stdio.h>\r\n",
      "\r\n",
      "int cfib(int n);\r\n",
      "\r\n",
      "\r\n",
      "int cfib(int n){\r\n",
      "  int a=0, b=1, tmp;\r\n",
      "  for(int i=0; i<n; ++i){\r\n",
      "    tmp = a; a = a + b; b = tmp;\r\n",
      "  }\r\n",
      "  return a;\r\n",
      "}\r\n",
      "\r\n",
      "\r\n",
      "void main(){\r\n",
      "  for(int i=1; i<=10; i++){\r\n",
      "    printf(\"%d,\", cfib(i));\r\n",
      "  }\r\n",
      "}\r\n"
     ]
    }
   ],
   "source": [
    "%%bash\n",
    "cat cfib.c"
   ]
  },
  {
   "cell_type": "code",
   "execution_count": 18,
   "metadata": {},
   "outputs": [
    {
     "name": "stdout",
     "output_type": "stream",
     "text": [
      "\r\n",
      "int cfib(int n);\r\n"
     ]
    }
   ],
   "source": [
    "%%bash\n",
    "cat cfib.h"
   ]
  },
  {
   "cell_type": "markdown",
   "metadata": {},
   "source": [
    "Note that the %%cython cell magic [doesn't help](https://stackoverflow.com/questions/37426534/how-can-i-import-an-external-c-function-into-an-ipython-notebook-using-cython) in this case...\n",
    "\n",
    "We'll have to put it in a Python file."
   ]
  },
  {
   "cell_type": "code",
   "execution_count": 49,
   "metadata": {},
   "outputs": [],
   "source": [
    "code = \"\"\"\n",
    "\n",
    "cdef extern from \"cfib.h\":\n",
    "    int cfib(int n)\n",
    "\n",
    "\n",
    "def fib(n):\n",
    "    return cfib(n)\n",
    "\n",
    "\"\"\"\n",
    "\n",
    "with open(\"cfib.pyx\", \"w\") as target_file:\n",
    "    target_file.write(code)"
   ]
  },
  {
   "cell_type": "code",
   "execution_count": 50,
   "metadata": {},
   "outputs": [],
   "source": [
    "code = \"\"\"\n",
    "from distutils.core import setup\n",
    "from Cython.Build import cythonize\n",
    "\n",
    "setup(\n",
    "    ext_modules = cythonize(\"cfib.pyx\")\n",
    ")\n",
    "\"\"\"\n",
    "\n",
    "with open(\"setup.py\", \"w\") as target_file:\n",
    "    target_file.write(code)"
   ]
  },
  {
   "cell_type": "code",
   "execution_count": null,
   "metadata": {},
   "outputs": [],
   "source": [
    "%%bash\n",
    "source activate py36\n",
    "python setup.py build_ext --inplace"
   ]
  },
  {
   "cell_type": "markdown",
   "metadata": {},
   "source": [
    "***"
   ]
  }
 ],
 "metadata": {
  "kernelspec": {
   "display_name": "py36",
   "language": "python",
   "name": "py36"
  },
  "language_info": {
   "codemirror_mode": {
    "name": "ipython",
    "version": 3
   },
   "file_extension": ".py",
   "mimetype": "text/x-python",
   "name": "python",
   "nbconvert_exporter": "python",
   "pygments_lexer": "ipython3",
   "version": "3.6.6"
  }
 },
 "nbformat": 4,
 "nbformat_minor": 2
}
