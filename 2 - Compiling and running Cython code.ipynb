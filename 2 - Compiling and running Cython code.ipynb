{
 "cells": [
  {
   "cell_type": "markdown",
   "metadata": {},
   "source": [
    "# Compiling and running Cython code\n",
    "Like C and C++, Cython requires a compilation step before source can be run. This compilation step can be explicit or implicit. There are several compilation options..."
   ]
  },
  {
   "cell_type": "markdown",
   "metadata": {},
   "source": [
    "## The standard way: using distutils with cythonize\n",
    "Of particular interest to us is the ability of distutils to compile C source into an extension module."
   ]
  },
  {
   "cell_type": "code",
   "execution_count": 1,
   "metadata": {},
   "outputs": [],
   "source": [
    "file_name = \"fib.pyx\"\n",
    "\n",
    "content = \"\"\"\n",
    "def fib(long n):\n",
    "    '''Returns the nth Fibonacci number.'''\n",
    "    cdef long a=0, b=1, i\n",
    "    for i in range(n):\n",
    "        a, b = a + b, a\n",
    "    return a\n",
    "\"\"\"\n",
    "\n",
    "with open(file_name, \"w\") as target_file:\n",
    "    target_file.write(content)\n"
   ]
  },
  {
   "cell_type": "code",
   "execution_count": 2,
   "metadata": {},
   "outputs": [
    {
     "name": "stdout",
     "output_type": "stream",
     "text": [
      "\r\n",
      "def fib(long n):\r\n",
      "    '''Returns the nth Fibonacci number.'''\r\n",
      "    cdef long a=0, b=1, i\r\n",
      "    for i in range(n):\r\n",
      "        a, b = a + b, a\r\n",
      "    return a\r\n"
     ]
    }
   ],
   "source": [
    "%%bash\n",
    "cat fib.pyx"
   ]
  },
  {
   "cell_type": "code",
   "execution_count": 5,
   "metadata": {},
   "outputs": [],
   "source": [
    "file_name = \"setup.py\"\n",
    "\n",
    "content = \"\"\"\n",
    "from distutils.core import setup\n",
    "from Cython.Build import cythonize\n",
    "\n",
    "setup(ext_modules=cythonize('fib.pyx'))\n",
    "\"\"\"\n",
    "\n",
    "with open(file_name, \"w\") as target_file:\n",
    "    target_file.write(content)\n"
   ]
  },
  {
   "cell_type": "code",
   "execution_count": 6,
   "metadata": {},
   "outputs": [
    {
     "name": "stdout",
     "output_type": "stream",
     "text": [
      "Compiling fib.pyx because it changed.\n",
      "[1/1] Cythonizing fib.pyx\n",
      "running build\n",
      "running build_ext\n",
      "building 'fib' extension\n"
     ]
    },
    {
     "name": "stderr",
     "output_type": "stream",
     "text": [
      "error: Unable to find vcvarsall.bat\n"
     ]
    }
   ],
   "source": [
    "! python setup.py build"
   ]
  },
  {
   "cell_type": "code",
   "execution_count": null,
   "metadata": {},
   "outputs": [],
   "source": []
  }
 ],
 "metadata": {
  "kernelspec": {
   "display_name": "py36",
   "language": "python",
   "name": "py36"
  },
  "language_info": {
   "codemirror_mode": {
    "name": "ipython",
    "version": 3
   },
   "file_extension": ".py",
   "mimetype": "text/x-python",
   "name": "python",
   "nbconvert_exporter": "python",
   "pygments_lexer": "ipython3",
   "version": "3.6.6"
  }
 },
 "nbformat": 4,
 "nbformat_minor": 2
}
